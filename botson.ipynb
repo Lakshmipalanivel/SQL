{
 "cells": [
  {
   "cell_type": "code",
   "execution_count": null,
   "id": "38f5bebd",
   "metadata": {},
   "outputs": [],
   "source": [
    "import pyspark\n",
    "import pandas as pd\n",
    "import numpy as np\n",
    "from pyspark.sql import SparkSession\n",
    "import six\n",
    "from pyspark.sql.functions import isnan,when,count,col\n",
    "from pyspark.ml.feature import VectorAssembler\n",
    "from pyspark.ml.regression import LinearRegression"
   ]
  },
  {
   "cell_type": "code",
   "execution_count": null,
   "id": "fd3f7674",
   "metadata": {},
   "outputs": [],
   "source": [
    "Boston = pd.read_csv(\"C:/Users/hp/Downloads/boston.csv\")"
   ]
  },
  {
   "cell_type": "code",
   "execution_count": null,
   "id": "8469cb71",
   "metadata": {
    "scrolled": true
   },
   "outputs": [],
   "source": [
    "Boston.head()"
   ]
  },
  {
   "cell_type": "code",
   "execution_count": null,
   "id": "da36cc16",
   "metadata": {},
   "outputs": [],
   "source": [
    "spark = SparkSession.builder \\\n",
    ".master(\"local\").appName(\"hive_pyspark\").enableHiveSupport().getOrCreate()"
   ]
  },
  {
   "cell_type": "code",
   "execution_count": null,
   "id": "7294ba1a",
   "metadata": {},
   "outputs": [],
   "source": [
    "data_boston=spark.read.csv('C:/Users/hp/Downloads/boston.csv',header=True,inferSchema=True)"
   ]
  },
  {
   "cell_type": "code",
   "execution_count": null,
   "id": "807e5357",
   "metadata": {},
   "outputs": [],
   "source": [
    "data_boston.describe().show()"
   ]
  },
  {
   "cell_type": "code",
   "execution_count": null,
   "id": "c0aa3cbf",
   "metadata": {},
   "outputs": [],
   "source": [
    "data_boston.select([count(when(isnan(c),c)).alias(c) for c in data_boston.columns]).show()"
   ]
  },
  {
   "cell_type": "code",
   "execution_count": null,
   "id": "74b6e2c4",
   "metadata": {},
   "outputs": [],
   "source": [
    "for i in data_boston.columns:\n",
    "    if not( isinstance(data_boston.select(i).take(1)[0][0], six.string_types)):\n",
    "        print( \"Correlation to MV for \", i, data_boston.stat.corr('MV',i))"
   ]
  },
  {
   "cell_type": "code",
   "execution_count": null,
   "id": "f7aea5af",
   "metadata": {},
   "outputs": [],
   "source": [
    "vectorAssembler = VectorAssembler(inputCols = ['CRIM', 'ZN', 'INDUS', 'CHAS', 'NOX', 'RM', 'AGE', 'DIS', 'RAD', 'TAX', 'PT', 'B', 'LSTAT'], outputCol = 'features')\n",
    "new_data= vectorAssembler.transform(data_boston)\n",
    "new_data = new_data.select(['features', 'MV'])\n",
    "new_data.show()"
   ]
  },
  {
   "cell_type": "code",
   "execution_count": null,
   "id": "01c14d37",
   "metadata": {},
   "outputs": [],
   "source": [
    "splits = new_data.randomSplit([0.7, 0.3])\n",
    "train = splits[0]\n",
    "test = splits[1]"
   ]
  },
  {
   "cell_type": "code",
   "execution_count": null,
   "id": "786cce30",
   "metadata": {},
   "outputs": [],
   "source": [
    "lr = LinearRegression(featuresCol = 'features', labelCol='MV', maxIter=10, regParam=0.3, elasticNetParam=0.8)\n",
    "lr_model = lr.fit(train)\n",
    "print(\"Coefficients: \" + str(lr_model.coefficients))\n",
    "print(\"Intercept: \" + str(lr_model.intercept))"
   ]
  },
  {
   "cell_type": "code",
   "execution_count": null,
   "id": "ad6ce6fc",
   "metadata": {},
   "outputs": [],
   "source": [
    "training = lr_model.summary\n",
    "print(\"RMSE: %f\" % training.rootMeanSquaredError)\n",
    "print(\"r2: %f\" % training.r2)"
   ]
  },
  {
   "cell_type": "code",
   "execution_count": null,
   "id": "605054d4",
   "metadata": {},
   "outputs": [],
   "source": []
  }
 ],
 "metadata": {
  "kernelspec": {
   "display_name": "Python 3 (ipykernel)",
   "language": "python",
   "name": "python3"
  },
  "language_info": {
   "codemirror_mode": {
    "name": "ipython",
    "version": 3
   },
   "file_extension": ".py",
   "mimetype": "text/x-python",
   "name": "python",
   "nbconvert_exporter": "python",
   "pygments_lexer": "ipython3",
   "version": "3.9.7"
  }
 },
 "nbformat": 4,
 "nbformat_minor": 5
}
